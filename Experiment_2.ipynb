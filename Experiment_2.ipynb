{
 "cells": [
  {
   "cell_type": "code",
   "execution_count": 1,
   "id": "7b154931",
   "metadata": {},
   "outputs": [],
   "source": [
    "import pandas as pd\n",
    "\n",
    "suffix_data = pd.read_csv(\"suffix_data_1.csv\")"
   ]
  },
  {
   "cell_type": "code",
   "execution_count": 2,
   "id": "6484f443",
   "metadata": {},
   "outputs": [
    {
     "data": {
      "text/plain": [
       "'\\nTable 1\\n'"
      ]
     },
     "execution_count": 2,
     "metadata": {},
     "output_type": "execute_result"
    }
   ],
   "source": [
    "\"\"\"\n",
    "Table 1\n",
    "\"\"\""
   ]
  },
  {
   "cell_type": "code",
   "execution_count": 3,
   "id": "329b2c92",
   "metadata": {},
   "outputs": [
    {
     "name": "stdout",
     "output_type": "stream",
     "text": [
      "382 77 28\n",
      "N    270\n",
      "M     79\n",
      "Name: m_gender, dtype: int64\n",
      "F    61\n",
      "N    16\n",
      "Name: f_gender, dtype: int64\n",
      "N    27\n",
      "Name: n_gender, dtype: int64\n"
     ]
    }
   ],
   "source": [
    "end_with_man = suffix_data[(suffix_data['m_lemma'].notnull())]\n",
    "end_with_woman = suffix_data[(suffix_data['f_lemma'].notnull())]\n",
    "end_with_person = suffix_data[(suffix_data['n_lemma'].notnull())]\n",
    "\n",
    "man_gender_distribution = end_with_man['m_gender'].value_counts()\n",
    "woman_gender_distribution = end_with_woman['f_gender'].value_counts()\n",
    "person_gender_distribution = end_with_person['n_gender'].value_counts()\n",
    "\n",
    "print(end_with_man.shape[0], end_with_woman.shape[0], end_with_person.shape[0])\n",
    "print(man_gender_distribution)\n",
    "print(woman_gender_distribution)\n",
    "print(person_gender_distribution)"
   ]
  },
  {
   "cell_type": "code",
   "execution_count": 4,
   "id": "8fd92762",
   "metadata": {},
   "outputs": [
    {
     "name": "stdout",
     "output_type": "stream",
     "text": [
      "p value is 9.892742792035596e-24\n",
      "100.85584544749477 9.892742792035596e-24 1 [[116.51416122 265.48583878]\n",
      " [ 23.48583878  53.51416122]]\n",
      "Dependent (reject H0)\n"
     ]
    }
   ],
   "source": [
    "from scipy.stats import chi2_contingency\n",
    " \n",
    "# defining the table\n",
    "data = [[79, 303], [61, 16]]\n",
    "stat, p, dof, expected = chi2_contingency(data)\n",
    " \n",
    "# interpret p-value\n",
    "alpha = 0.05\n",
    "print(\"p value is \" + str(p))\n",
    "\n",
    "print(stat, p, dof, expected)\n",
    "\n",
    "if p <= alpha:\n",
    "    print('Dependent (reject H0)')\n",
    "else:\n",
    "    print('Independent (H0 holds true)')"
   ]
  },
  {
   "cell_type": "code",
   "execution_count": 5,
   "id": "b965647d",
   "metadata": {},
   "outputs": [
    {
     "data": {
      "text/plain": [
       "'\\nTable 2\\n'"
      ]
     },
     "execution_count": 5,
     "metadata": {},
     "output_type": "execute_result"
    }
   ],
   "source": [
    "\"\"\"\n",
    "Table 2\n",
    "\"\"\""
   ]
  },
  {
   "cell_type": "code",
   "execution_count": 6,
   "id": "8eca0051",
   "metadata": {},
   "outputs": [
    {
     "name": "stdout",
     "output_type": "stream",
     "text": [
      "Rows with only m_lemma: 310\n",
      "Rows with only f_lemma: 12\n",
      "Rows with m_lemma and f_lemma: 47\n",
      "Rows with n_lemma and f_lemma: 3\n",
      "Rows with n_lemma and m_lemma: 10\n",
      "Rows with m_lemma, f_lemma, and n_lemma: 15\n"
     ]
    }
   ],
   "source": [
    "only_man = suffix_data[(suffix_data['m_lemma'].notnull()) & (suffix_data['f_lemma'].isnull()) & (suffix_data['n_lemma'].isnull())]\n",
    "only_woman = suffix_data[(suffix_data['f_lemma'].notnull()) & (suffix_data['m_lemma'].isnull()) & (suffix_data['n_lemma'].isnull())]\n",
    "\n",
    "only_man_and_woman = suffix_data[(suffix_data['m_lemma'].notnull()) & (suffix_data['f_lemma'].notnull()) & (suffix_data['n_lemma'].isnull())]\n",
    "only_person_and_woman = suffix_data[(suffix_data['n_lemma'].notnull()) & (suffix_data['f_lemma'].notnull()) & (suffix_data['m_lemma'].isnull())]\n",
    "only_person_and_man = suffix_data[(suffix_data['n_lemma'].notnull()) & (suffix_data['m_lemma'].notnull()) & (suffix_data['f_lemma'].isnull())]\n",
    "\n",
    "man_and_woman_and_person = suffix_data[(suffix_data['m_lemma'].notnull()) & (suffix_data['f_lemma'].notnull()) & (suffix_data['n_lemma'].notnull())]\n",
    "\n",
    "print(\"Rows with only m_lemma:\", only_man.shape[0])\n",
    "print(\"Rows with only f_lemma:\", only_woman.shape[0])\n",
    "print(\"Rows with m_lemma and f_lemma:\", only_man_and_woman.shape[0])\n",
    "print(\"Rows with n_lemma and f_lemma:\", only_person_and_woman.shape[0])\n",
    "print(\"Rows with n_lemma and m_lemma:\", only_person_and_man.shape[0])\n",
    "print(\"Rows with m_lemma, f_lemma, and n_lemma:\", man_and_woman_and_person.shape[0])"
   ]
  },
  {
   "cell_type": "code",
   "execution_count": 48,
   "id": "056cea9b",
   "metadata": {},
   "outputs": [
    {
     "name": "stdout",
     "output_type": "stream",
     "text": [
      "          root        m_lemma m_gender  \\\n",
      "2       beggar      beggarman        M   \n",
      "6        bonds       bondsman        M   \n",
      "7        bonds       bondsman        M   \n",
      "8         bond        bondman        M   \n",
      "9         bond        bondman        M   \n",
      "16   committee   committeeman        M   \n",
      "18     cornish     cornishman        M   \n",
      "19     council     councilman        M   \n",
      "21     country     countryman        M   \n",
      "22     country     countryman        M   \n",
      "24     english     englishman        M   \n",
      "34   frontiers   frontiersman        M   \n",
      "35        gay_        gay_man        M   \n",
      "36      gentle      gentleman        M   \n",
      "38       horse       horseman        M   \n",
      "39       irish       irishman        M   \n",
      "64      states      statesman        M   \n",
      "66  unmarried_  unmarried_man        M   \n",
      "68      vestry      vestryman        M   \n",
      "\n",
      "                                         m_definition          f_lemma  \\\n",
      "2                               a man who is a beggar      beggarwoman   \n",
      "6                 a male bound to serve without wages       bondswoman   \n",
      "7                                        a male slave       bondswoman   \n",
      "8                 a male bound to serve without wages        bondwoman   \n",
      "9                                        a male slave        bondwoman   \n",
      "16                 a man who is a member of committee   committeewoman   \n",
      "18    a man who is a native or inhabitant of Cornwall     cornishwoman   \n",
      "19                      a man who is a council member     councilwoman   \n",
      "21  a man who lives in the country and has country...     countrywoman   \n",
      "22                        a man from your own country     countrywoman   \n",
      "24     a man who is a native or inhabitant of England     englishwoman   \n",
      "34                    a man who lives on the frontier   frontierswoman   \n",
      "35                                   a homosexual man        gay_woman   \n",
      "36                                a man of refinement      gentlewoman   \n",
      "38                        a man skilled in equitation       horsewoman   \n",
      "39     a man who is a native or inhabitant of Ireland       irishwoman   \n",
      "64  a man who is a respected leader in national or...      stateswoman   \n",
      "66                   a man who has never been married  unmarried_woman   \n",
      "68           a man who is a member of a church vestry      vestrywoman   \n",
      "\n",
      "   f_gender                                       f_definition n_lemma  \\\n",
      "2         F                            a woman who is a beggar     NaN   \n",
      "6         F              a female bound to serve without wages     NaN   \n",
      "7         F                                     a female slave     NaN   \n",
      "8         F              a female bound to serve without wages     NaN   \n",
      "9         F                                     a female slave     NaN   \n",
      "16        F             a woman who is a member of a committee     NaN   \n",
      "18        F    a woman who is a native or resident of Cornwall     NaN   \n",
      "19        F                    a woman who is a council member     NaN   \n",
      "21        F  a woman who lives in the country and has count...     NaN   \n",
      "22        F                      a woman from your own country     NaN   \n",
      "24        F   a woman who is a native or inhabitant of England     NaN   \n",
      "34        F                  a woman who lives on the frontier     NaN   \n",
      "35        F                                a female homosexual     NaN   \n",
      "36        F                              a woman of refinement     NaN   \n",
      "38        F                                   a woman horseman     NaN   \n",
      "39        F   a woman who is a native or inhabitant of Ireland     NaN   \n",
      "64        F                                  a woman statesman     NaN   \n",
      "66        F                         a woman who is not married     NaN   \n",
      "68        F         a woman who is a member of a church vestry     NaN   \n",
      "\n",
      "   n_gender n_definition  \n",
      "2       NaN          NaN  \n",
      "6       NaN          NaN  \n",
      "7       NaN          NaN  \n",
      "8       NaN          NaN  \n",
      "9       NaN          NaN  \n",
      "16      NaN          NaN  \n",
      "18      NaN          NaN  \n",
      "19      NaN          NaN  \n",
      "21      NaN          NaN  \n",
      "22      NaN          NaN  \n",
      "24      NaN          NaN  \n",
      "34      NaN          NaN  \n",
      "35      NaN          NaN  \n",
      "36      NaN          NaN  \n",
      "38      NaN          NaN  \n",
      "39      NaN          NaN  \n",
      "64      NaN          NaN  \n",
      "66      NaN          NaN  \n",
      "68      NaN          NaN  \n"
     ]
    }
   ],
   "source": [
    "print(only_man_and_woman[only_man_and_woman[\"m_gender\"] == \"M\"])"
   ]
  },
  {
   "cell_type": "code",
   "execution_count": 38,
   "id": "a832ade3",
   "metadata": {},
   "outputs": [
    {
     "name": "stdout",
     "output_type": "stream",
     "text": [
      "['black_man', 'businessman', 'chairman', 'counterman', 'enlisted_man', 'foreman', 'foreman', 'kinsman', 'married_man', 'newsman', 'old_man', 'salesman', 'spokesman', 'white_man', 'young_man']\n",
      "['black_woman', 'businesswoman', 'chairwoman', 'counterwoman', 'enlisted_woman', 'forewoman', 'forewoman', 'kinswoman', 'married_woman', 'newswoman', 'old_woman', 'saleswoman', 'spokeswoman', 'white_woman', 'young_woman']\n",
      "['black_person', 'businessperson', 'chairperson', 'counterperson', 'enlisted_person', 'foreperson', 'foreperson', 'kinsperson', 'married_person', 'newsperson', 'old_person', 'salesperson', 'spokesperson', 'white_person', 'young_person']\n"
     ]
    }
   ],
   "source": [
    "word_list = man_and_woman_and_person['m_lemma'].tolist()\n",
    "word_list1 = man_and_woman_and_person['f_lemma'].tolist()\n",
    "word_list2 = man_and_woman_and_person['n_lemma'].tolist()\n",
    "\n",
    "print(word_list)\n",
    "print(word_list1)\n",
    "print(word_list2)"
   ]
  },
  {
   "cell_type": "code",
   "execution_count": 39,
   "id": "299b5cac",
   "metadata": {},
   "outputs": [
    {
     "name": "stdout",
     "output_type": "stream",
     "text": [
      "['abandoned_person', 'aliterate_person', 'bad_person', 'bereaved_person', 'bisexual_person', 'blind_person', 'british_people', 'clumsy_person', 'color-blind_person', 'colored_person', 'crabby_person', 'creative_person', 'dead_person', 'deaf-and-dumb_person', 'deaf_person', 'deceased_person', 'diseased_person', 'displaced_person', 'disreputable_person', 'dutch_people', 'eccentric_person', 'emotional_person', 'english_people', 'english_person', 'epicene_person', 'famous_person', 'fat_person', 'forgetful_person', 'french_people', 'french_person', 'good_person', 'handicapped_person', 'heterosexual_person', 'homeless_person', 'hunted_person', 'illiterate_person', 'important_person', 'incompetent_person', 'inexperienced_person', 'influential_person', 'insured_person', 'irish_people', 'irish_person', 'juvenile_person', 'large_person', 'learned_person', 'literate_person', 'nonperson', 'nonreligious_person', 'nude_person', 'oriental_person', 'poor_person', 'primitive_person', 'professional_person', 'psychotic_person', 'religious_person', 'retired_person', 'scholarly_person', 'self-employed_person', 'selfish_person', 'shy_person', 'sick_person', 'silent_person', 'slavic_people', 'sleepless_person', 'small_person', 'spanish_people', 'stateless_person', 'street_person', 'stupid_person', 'swiss_people', 'thin_person', 'uneducated_person', 'unemotional_person', 'unemployed_person', 'unfortunate_person', 'ungrateful_person', 'unkind_person', 'unperson', 'unskilled_person', 'unsuccessful_person', 'unusual_person', 'unwelcome_person', 'very_important_person', 'visually_impaired_person']\n"
     ]
    }
   ],
   "source": [
    "person_only = pd.read_csv(\"suffix_data_n_1.csv\")\n",
    "\n",
    "word_list3 = person_only['n_lemma'].tolist()\n",
    "\n",
    "print(word_list3)"
   ]
  },
  {
   "cell_type": "code",
   "execution_count": 7,
   "id": "43f9d4af",
   "metadata": {},
   "outputs": [
    {
     "name": "stdout",
     "output_type": "stream",
     "text": [
      "N    234\n",
      "M     50\n",
      "Name: m_gender, dtype: int64\n",
      "F    11\n",
      "N     1\n",
      "Name: f_gender, dtype: int64\n",
      "====================\n",
      "N    21\n",
      "M    19\n",
      "Name: m_gender, dtype: int64\n",
      "F    34\n",
      "N    13\n",
      "Name: f_gender, dtype: int64\n",
      "====================\n",
      "F    3\n",
      "Name: f_gender, dtype: int64\n",
      "N    3\n",
      "Name: n_gender, dtype: int64\n",
      "====================\n",
      "N    8\n",
      "M    2\n",
      "Name: m_gender, dtype: int64\n",
      "N    10\n",
      "Name: n_gender, dtype: int64\n",
      "====================\n",
      "M    8\n",
      "N    7\n",
      "Name: m_gender, dtype: int64\n",
      "F    13\n",
      "N     2\n",
      "Name: f_gender, dtype: int64\n",
      "N    14\n",
      "Name: n_gender, dtype: int64\n"
     ]
    }
   ],
   "source": [
    "only_man_distribution = only_man['m_gender'].value_counts()\n",
    "only_woman_distribution = only_woman['f_gender'].value_counts()\n",
    "\n",
    "only_man_and_woman_man_distrbution = only_man_and_woman['m_gender'].value_counts()\n",
    "only_man_and_woman_woman_distrbution = only_man_and_woman['f_gender'].value_counts()\n",
    "\n",
    "only_person_and_woman_woman_distribution = only_person_and_woman['f_gender'].value_counts()\n",
    "only_person_and_woman_person_distribution = only_person_and_woman['n_gender'].value_counts()\n",
    "\n",
    "only_person_and_man_man_distribution = only_person_and_man['m_gender'].value_counts()\n",
    "only_person_and_man_person_distribution = only_person_and_man['n_gender'].value_counts()\n",
    "\n",
    "man_and_woman_and_person_man_distribution = man_and_woman_and_person['m_gender'].value_counts()\n",
    "man_and_woman_and_person_woman_distribution = man_and_woman_and_person['f_gender'].value_counts()\n",
    "man_and_woman_and_person_person_distribution = man_and_woman_and_person['n_gender'].value_counts()\n",
    "\n",
    "print(only_man_distribution)\n",
    "print(only_woman_distribution)\n",
    "print(\"==\"*10)\n",
    "print(only_man_and_woman_man_distrbution)\n",
    "print(only_man_and_woman_woman_distrbution)\n",
    "print(\"==\"*10)\n",
    "print(only_person_and_woman_woman_distribution)\n",
    "print(only_person_and_woman_person_distribution)\n",
    "print(\"==\"*10)\n",
    "print(only_person_and_man_man_distribution)\n",
    "print(only_person_and_man_person_distribution)\n",
    "print(\"==\"*10)\n",
    "print(man_and_woman_and_person_man_distribution)\n",
    "print(man_and_woman_and_person_woman_distribution)\n",
    "print(man_and_woman_and_person_person_distribution)"
   ]
  },
  {
   "cell_type": "code",
   "execution_count": 8,
   "id": "f1f2fe85",
   "metadata": {},
   "outputs": [
    {
     "name": "stdout",
     "output_type": "stream",
     "text": [
      "             root m_lemma m_gender m_definition             f_lemma f_gender  \\\n",
      "23  disagreeable_     NaN      NaN          NaN  disagreeable_woman        F   \n",
      "61      slovenly_     NaN      NaN          NaN      slovenly_woman        F   \n",
      "67    unpleasant_     NaN      NaN          NaN    unpleasant_woman        F   \n",
      "\n",
      "                           f_definition              n_lemma n_gender  \\\n",
      "23  a woman who is an unpleasant person  disagreeable_person        N   \n",
      "61                 a dirty untidy woman      slovenly_person        N   \n",
      "67  a woman who is an unpleasant person    unpleasant_person        N   \n",
      "\n",
      "                                 n_definition  \n",
      "23  a person who is not pleasant or agreeable  \n",
      "61                  a coarse obnoxious person  \n",
      "67  a person who is not pleasant or agreeable  \n"
     ]
    }
   ],
   "source": [
    "print(only_person_and_woman)"
   ]
  },
  {
   "cell_type": "code",
   "execution_count": 26,
   "id": "7811b287",
   "metadata": {},
   "outputs": [
    {
     "name": "stdout",
     "output_type": "stream",
     "text": [
      "                  root               m_lemma m_gender  \\\n",
      "86              anchor             anchorman        N   \n",
      "132            common_            common_man        N   \n",
      "153             drafts             draftsman        N   \n",
      "208              holy_              holy_man        N   \n",
      "225                lay                layman        N   \n",
      "306  public_relations_  public_relations_man        N   \n",
      "320              rich_              rich_man        M   \n",
      "348          straight_          straight_man        N   \n",
      "381           wealthy_           wealthy_man        M   \n",
      "391           working_           working_man        N   \n",
      "\n",
      "                                          m_definition f_lemma f_gender  \\\n",
      "86   a television reporter who coordinates a broadc...     NaN      NaN   \n",
      "132                        a person who holds no title     NaN      NaN   \n",
      "153  a skilled worker who draws plans of buildings ...     NaN      NaN   \n",
      "208                     person of exceptional holiness     NaN      NaN   \n",
      "225  someone who is not a clergyman or a profession...     NaN      NaN   \n",
      "306  someone employed to arrange publicity (for a f...     NaN      NaN   \n",
      "320                               a man who is wealthy     NaN      NaN   \n",
      "348       a performer who acts as stooge to a comedian     NaN      NaN   \n",
      "381                               a man who is wealthy     NaN      NaN   \n",
      "391  an employee who performs manual or industrial ...     NaN      NaN   \n",
      "\n",
      "    f_definition                  n_lemma n_gender  \\\n",
      "86           NaN             anchorperson        N   \n",
      "132          NaN            common_person        N   \n",
      "153          NaN             draftsperson        N   \n",
      "208          NaN              holy_person        N   \n",
      "225          NaN                layperson        N   \n",
      "306          NaN  public_relations_person        N   \n",
      "320          NaN              rich_person        N   \n",
      "348          NaN          straight_person        N   \n",
      "381          NaN           wealthy_person        N   \n",
      "391          NaN           working_person        N   \n",
      "\n",
      "                                          n_definition  \n",
      "86   a television reporter who coordinates a broadc...  \n",
      "132                        a person who holds no title  \n",
      "153  a skilled worker who draws plans of buildings ...  \n",
      "208                     person of exceptional holiness  \n",
      "225  someone who is not a clergyman or a profession...  \n",
      "306  a person employed to establish and promote a f...  \n",
      "320       a person who possesses great material wealth  \n",
      "348  a heterosexual person; someone having a sexual...  \n",
      "381       a person who possesses great material wealth  \n",
      "391  an employee who performs manual or industrial ...  \n"
     ]
    }
   ],
   "source": [
    "print(only_person_and_man)"
   ]
  },
  {
   "cell_type": "code",
   "execution_count": 9,
   "id": "bb7d44de",
   "metadata": {},
   "outputs": [
    {
     "data": {
      "text/plain": [
       "'\\ndefinition of -man male words and -woman female words\\n'"
      ]
     },
     "execution_count": 9,
     "metadata": {},
     "output_type": "execute_result"
    }
   ],
   "source": [
    "\"\"\"\n",
    "definition of -man male words and -woman female words\n",
    "\"\"\""
   ]
  },
  {
   "cell_type": "code",
   "execution_count": 10,
   "id": "023ec89a",
   "metadata": {},
   "outputs": [
    {
     "name": "stdout",
     "output_type": "stream",
     "text": [
      "able-bodied_seaman: a seaman in the merchant marine; trained in special skills\n",
      "able_seaman: a seaman in the merchant marine; trained in special skills\n",
      "backwoodsman: a man who lives on the frontier\n",
      "bagman: a salesman who travels to call on customers\n",
      "beef_man: a man who raises (or tends) cattle\n",
      "best_man: the principal groomsman at a wedding\n",
      "career_man: a man who is a careerist\n",
      "cattleman: a man who raises (or tends) cattle\n",
      "coachman: a man who drives a coach (or carriage)\n",
      "corner_man: a man at one end of line of performers in a minstrel show; carries on humorous dialogue with the interlocutor\n",
      "cow_man: a man who raises (or tends) cattle\n",
      "dirty_old_man: a middle-aged man with lecherous inclinations\n",
      "divorced_man: a man who is divorced from (or separated from) his wife\n",
      "elevator_man: a man employed to operate an elevator\n",
      "end_man: a man at one end of line of performers in a minstrel show; carries on humorous dialogue with the interlocutor\n",
      "family_man: a man whose family is of major importance in his life\n",
      "ferryman: a man who operates a ferry\n",
      "footman: a man employed as a servant in a large establishment (as a palace) to run errands and do chores\n",
      "gentleman's_gentleman: a manservant who acts as a personal attendant to his employer\n",
      "groomsman: a male attendant of the bridegroom at a wedding\n",
      "handyman: a man skilled in various odd jobs and other small tasks\n",
      "he-man: a man who is virile and sexually active\n",
      "highwayman: a holdup man who stops a vehicle and steals from it\n",
      "iron_man: a strong man of exceptional physical endurance\n",
      "ironman: a strong man of exceptional physical endurance\n",
      "ladies'_man: a man who takes advantage of women\n",
      "liftman: a man employed to operate an elevator\n",
      "macho-man: a man who is virile and sexually active\n",
      "mailman: a man who delivers the mail\n",
      "merman: half man and half fish; lives in the sea\n",
      "middle-aged_man: a man who is roughly between 45 and 65 years old\n",
      "mountain_man: a man who lives on the frontier\n",
      "muscleman: a bully employed as a thug or bodyguard\n",
      "odd-job_man: a man skilled in various odd jobs and other small tasks\n",
      "pantryman: a manservant (usually the head servant of a household) who has charge of wines and the table\n",
      "pitchman: an aggressive salesman who uses a fast line of talk to sell something\n",
      "ploughman: a man who plows\n",
      "plowman: a man who plows\n",
      "posseman: an able-bodied man serving as a member of a posse\n",
      "postman: a man who delivers the mail\n",
      "quarryman: a man who works in a quarry\n",
      "roadman: a salesman who travels to call on customers\n",
      "seaman: a man who serves as a sailor\n",
      "sheepman: a man who raises (or tends) sheep\n",
      "squaw_man: a white man married to a North American Indian woman\n",
      "strongman: a man who performs feats of strength at a fair or circus\n",
      "switchman: a man who operates railroad switches\n",
      "traveling_salesman: a salesman who travels to call on customers\n",
      "travelling_salesman: a salesman who travels to call on customers\n",
      "widowman: a man whose wife is dead especially one who has not remarried\n"
     ]
    }
   ],
   "source": [
    "_man_male = only_man[(only_man['m_gender'] == 'M')]\n",
    "_man_male_entries = _man_male['m_lemma'].tolist()\n",
    "_man_male_defs = _man_male['m_definition'].tolist()\n",
    "\n",
    "for i in range(50):\n",
    "    print(\"{}: {}\".format(_man_male_entries[i], _man_male_defs[i]))"
   ]
  },
  {
   "cell_type": "code",
   "execution_count": 11,
   "id": "8ab409b4",
   "metadata": {},
   "outputs": [
    {
     "name": "stdout",
     "output_type": "stream",
     "text": [
      "charwoman: a human female employed to do housework\n",
      "cleaning_woman: a human female employed to do housework\n",
      "comfort_woman: a woman forced into prostitution for Japanese servicemen during World War II\n",
      "foolish_woman: a female fool\n",
      "honest_woman: a wife who has married a man with whom she has been living for some time (especially if she is pregnant at the time)\n",
      "kept_woman: an adulterous woman; a woman who has an ongoing extramarital sexual relationship with a man\n",
      "lollipop_woman: a woman hired to help children cross a road safely near a school\n",
      "loose_woman: a woman adulterer\n",
      "washwoman: a working woman who takes in washing\n",
      "widow_woman: a woman whose husband is dead especially one who has not remarried\n",
      "wonder_woman: a woman who can be a successful wife and have a professional career at the same time\n"
     ]
    }
   ],
   "source": [
    "_woman_female = only_woman[(only_woman['f_gender'] == 'F')]\n",
    "_woman_female_entries = _woman_female['f_lemma'].tolist()\n",
    "_woman_female_defs = _woman_female['f_definition'].tolist()\n",
    "\n",
    "for i in range(11):\n",
    "    print(\"{}: {}\".format(_woman_female_entries[i], _woman_female_defs[i]))"
   ]
  },
  {
   "cell_type": "code",
   "execution_count": 12,
   "id": "e9736773",
   "metadata": {},
   "outputs": [
    {
     "name": "stdout",
     "output_type": "stream",
     "text": [
      "Requirement already satisfied: vaderSentiment in /Users/gaokexin/compling_win/lib/python3.6/site-packages (3.3.2)\n",
      "Requirement already satisfied: requests in /Users/gaokexin/compling_win/lib/python3.6/site-packages (from vaderSentiment) (2.27.1)\n",
      "Requirement already satisfied: certifi>=2017.4.17 in /Users/gaokexin/compling_win/lib/python3.6/site-packages (from requests->vaderSentiment) (2022.12.7)\n",
      "Requirement already satisfied: idna<4,>=2.5 in /Users/gaokexin/compling_win/lib/python3.6/site-packages (from requests->vaderSentiment) (3.4)\n",
      "Requirement already satisfied: urllib3<1.27,>=1.21.1 in /Users/gaokexin/compling_win/lib/python3.6/site-packages (from requests->vaderSentiment) (1.26.14)\n",
      "Requirement already satisfied: charset-normalizer~=2.0.0 in /Users/gaokexin/compling_win/lib/python3.6/site-packages (from requests->vaderSentiment) (2.0.12)\n"
     ]
    }
   ],
   "source": [
    "! pip install vaderSentiment"
   ]
  },
  {
   "cell_type": "code",
   "execution_count": 13,
   "id": "cab90d2f",
   "metadata": {},
   "outputs": [],
   "source": [
    "from vaderSentiment.vaderSentiment import SentimentIntensityAnalyzer\n",
    " \n",
    "# function to print sentiments\n",
    "# of the sentence.\n",
    "def sentiment_scores(sentence):\n",
    " \n",
    "    # Create a SentimentIntensityAnalyzer object.\n",
    "    sid_obj = SentimentIntensityAnalyzer()\n",
    "    sentiment_dict = sid_obj.polarity_scores(sentence)\n",
    "    \n",
    "    return sentiment_dict['compound']"
   ]
  },
  {
   "cell_type": "code",
   "execution_count": 14,
   "id": "5ff46b68",
   "metadata": {},
   "outputs": [
    {
     "name": "stdout",
     "output_type": "stream",
     "text": [
      "0.04403199999999999\n"
     ]
    }
   ],
   "source": [
    "man_scores = []\n",
    "\n",
    "for definition in _man_male_defs:\n",
    "    man_scores.append(sentiment_scores(definition))\n",
    "    \n",
    "print(sum(man_scores) / len(man_scores))"
   ]
  },
  {
   "cell_type": "code",
   "execution_count": 15,
   "id": "fd48ac58",
   "metadata": {},
   "outputs": [
    {
     "name": "stdout",
     "output_type": "stream",
     "text": [
      "-0.05254545454545454\n"
     ]
    }
   ],
   "source": [
    "woman_scores = []\n",
    "\n",
    "for definition in _woman_female_defs:\n",
    "    woman_scores.append(sentiment_scores(definition))\n",
    "    \n",
    "print(sum(woman_scores) / len(woman_scores))"
   ]
  },
  {
   "cell_type": "code",
   "execution_count": 16,
   "id": "cc1ca535",
   "metadata": {},
   "outputs": [
    {
     "name": "stdout",
     "output_type": "stream",
     "text": [
      "             root m_lemma m_gender m_definition             f_lemma f_gender  \\\n",
      "23  disagreeable_     NaN      NaN          NaN  disagreeable_woman        F   \n",
      "61      slovenly_     NaN      NaN          NaN      slovenly_woman        F   \n",
      "67    unpleasant_     NaN      NaN          NaN    unpleasant_woman        F   \n",
      "\n",
      "                           f_definition              n_lemma n_gender  \\\n",
      "23  a woman who is an unpleasant person  disagreeable_person        N   \n",
      "61                 a dirty untidy woman      slovenly_person        N   \n",
      "67  a woman who is an unpleasant person    unpleasant_person        N   \n",
      "\n",
      "                                 n_definition  \n",
      "23  a person who is not pleasant or agreeable  \n",
      "61                  a coarse obnoxious person  \n",
      "67  a person who is not pleasant or agreeable  \n",
      "         root      m_lemma m_gender          m_definition f_lemma f_gender  \\\n",
      "320     rich_     rich_man        M  a man who is wealthy     NaN      NaN   \n",
      "381  wealthy_  wealthy_man        M  a man who is wealthy     NaN      NaN   \n",
      "\n",
      "    f_definition         n_lemma n_gender  \\\n",
      "320          NaN     rich_person        N   \n",
      "381          NaN  wealthy_person        N   \n",
      "\n",
      "                                     n_definition  \n",
      "320  a person who possesses great material wealth  \n",
      "381  a person who possesses great material wealth  \n"
     ]
    }
   ],
   "source": [
    "two_types_woman_female = only_person_and_woman[only_person_and_woman['f_gender'] == \"F\"]\n",
    "two_types_man_male = only_person_and_man[only_person_and_man['m_gender'] == \"M\"]\n",
    "\n",
    "print(two_types_woman_female)\n",
    "print(two_types_man_male)"
   ]
  },
  {
   "cell_type": "code",
   "execution_count": 17,
   "id": "229d7c5b",
   "metadata": {},
   "outputs": [
    {
     "name": "stdout",
     "output_type": "stream",
     "text": [
      "-0.46460000000000007\n",
      "0.3612\n"
     ]
    }
   ],
   "source": [
    "two_types_woman_female_def = two_types_woman_female['f_definition'].tolist()\n",
    "two_types_man_male_def = two_types_man_male['m_definition'].tolist()\n",
    "\n",
    "woman_scores_2 = []\n",
    "man_scores_2 = []\n",
    "for definition in two_types_woman_female_def:\n",
    "    woman_scores_2.append(sentiment_scores(definition))\n",
    "for definition in two_types_man_male_def:\n",
    "    man_scores_2.append(sentiment_scores(definition))\n",
    "    \n",
    "print(sum(woman_scores_2) / len(woman_scores_2))\n",
    "print(sum(man_scores_2) / len(man_scores_2))"
   ]
  },
  {
   "cell_type": "code",
   "execution_count": 18,
   "id": "5354f76f",
   "metadata": {},
   "outputs": [
    {
     "name": "stdout",
     "output_type": "stream",
     "text": [
      "-0.14084285714285713\n",
      "0.05623076923076922\n"
     ]
    }
   ],
   "source": [
    "print((sum(woman_scores_2) + sum(woman_scores)) / (len(woman_scores) + len(woman_scores_2)))\n",
    "print((sum(man_scores_2) + sum(man_scores)) / (len(man_scores) + len(man_scores_2)))"
   ]
  },
  {
   "cell_type": "code",
   "execution_count": 19,
   "id": "edfc9f78",
   "metadata": {},
   "outputs": [],
   "source": [
    "woman_scores_all = woman_scores + woman_scores_2\n",
    "man_scores_all = man_scores + man_scores_2"
   ]
  },
  {
   "cell_type": "code",
   "execution_count": 20,
   "id": "2259e594",
   "metadata": {},
   "outputs": [
    {
     "name": "stdout",
     "output_type": "stream",
     "text": [
      "Ttest_indResult(statistic=-2.148133561308119, pvalue=0.03549425132937178)\n"
     ]
    }
   ],
   "source": [
    "import scipy.stats as stats\n",
    "\n",
    "results = stats.ttest_ind(woman_scores_all, man_scores_all)\n",
    "\n",
    "print(results)"
   ]
  },
  {
   "cell_type": "code",
   "execution_count": 21,
   "id": "e161c003",
   "metadata": {},
   "outputs": [
    {
     "name": "stdout",
     "output_type": "stream",
     "text": [
      "         root       m_lemma m_gender  \\\n",
      "4      black_     black_man        M   \n",
      "10   business   businessman        N   \n",
      "11      chair      chairman        N   \n",
      "20    counter    counterman        N   \n",
      "25  enlisted_  enlisted_man        M   \n",
      "29       fore       foreman        N   \n",
      "30       fore       foreman        N   \n",
      "42       kins       kinsman        M   \n",
      "47   married_   married_man        M   \n",
      "50       news       newsman        N   \n",
      "53       old_       old_man        M   \n",
      "57      sales      salesman        M   \n",
      "62     spokes     spokesman        M   \n",
      "71     white_     white_man        M   \n",
      "76     young_     young_man        N   \n",
      "\n",
      "                                         m_definition         f_lemma  \\\n",
      "4                                  a man who is Black     black_woman   \n",
      "10  a person engaged in commercial or industrial b...   businesswoman   \n",
      "11  the officer who presides at the meetings of an...      chairwoman   \n",
      "20      someone who attends a counter (as in a diner)    counterwoman   \n",
      "25         a male enlisted person in the armed forces  enlisted_woman   \n",
      "29                  a man who is foreperson of a jury       forewoman   \n",
      "30        a person who exercises control over workers       forewoman   \n",
      "42                                    a male relative       kinswoman   \n",
      "47       a married man; a woman's partner in marriage   married_woman   \n",
      "50  a person who investigates and reports or edits...       newswoman   \n",
      "53                              a man who is very old       old_woman   \n",
      "57                                  a man salesperson      saleswoman   \n",
      "62                                a male spokesperson     spokeswoman   \n",
      "71                                 a man who is White     white_woman   \n",
      "76                   a teenager or a young adult male     young_woman   \n",
      "\n",
      "   f_gender                                       f_definition  \\\n",
      "4         F                               a woman who is Black   \n",
      "10        F                            a female businessperson   \n",
      "11        N  the officer who presides at the meetings of an...   \n",
      "20        N      someone who attends a counter (as in a diner)   \n",
      "25        F       a female enlisted person in the armed forces   \n",
      "29        F                a woman who is foreperson of a jury   \n",
      "30        F            a woman in charge of a group of workers   \n",
      "42        F                                  a female relative   \n",
      "47        F       a married woman; a man's partner in marriage   \n",
      "50        F                                a female newsperson   \n",
      "53        F                                 a woman who is old   \n",
      "57        F                                a woman salesperson   \n",
      "62        F                              a female spokesperson   \n",
      "71        F                               a woman who is White   \n",
      "76        F                                      a young woman   \n",
      "\n",
      "            n_lemma n_gender  \\\n",
      "4      black_person        N   \n",
      "10   businessperson        N   \n",
      "11      chairperson        N   \n",
      "20    counterperson        N   \n",
      "25  enlisted_person        N   \n",
      "29       foreperson        N   \n",
      "30       foreperson        N   \n",
      "42       kinsperson        N   \n",
      "47   married_person      NaN   \n",
      "50       newsperson        N   \n",
      "53       old_person        N   \n",
      "57      salesperson        N   \n",
      "62     spokesperson        N   \n",
      "71     white_person        N   \n",
      "76     young_person        N   \n",
      "\n",
      "                                         n_definition  \n",
      "4   a person with dark skin who comes from Africa ...  \n",
      "10  a capitalist who engages in industrial commerc...  \n",
      "11  the officer who presides at the meetings of an...  \n",
      "20      someone who attends a counter (as in a diner)  \n",
      "25  a serviceman who ranks below a commissioned of...  \n",
      "29  the presiding member of the jury and the one w...  \n",
      "30  the presiding member of the jury and the one w...  \n",
      "42     a person having kinship with another or others  \n",
      "47                     a person's partner in marriage  \n",
      "50  a person who investigates and reports or edits...  \n",
      "53                                  an elderly person  \n",
      "57  a person employed to represent a business and ...  \n",
      "62  an advocate who represents someone else's poli...  \n",
      "71                     a member of the Caucasoid race  \n",
      "76     a young person (especially a young man or boy)  \n"
     ]
    }
   ],
   "source": [
    "print(man_and_woman_and_person)"
   ]
  },
  {
   "cell_type": "code",
   "execution_count": 22,
   "id": "6d485334",
   "metadata": {},
   "outputs": [
    {
     "data": {
      "text/plain": [
       "'\\nchairman: 1644  (peak 1946)\\nchairwoman: 1699\\nchairperson: 1899\\n\\nnewsman: 1888  (peak 1970)\\nnewswoman: 1928\\nnewsperson: 1973\\n\\nstatesman: 1592\\nstateswoman: 1611\\nstatesperson: -\\n\\nsalesman: 1523\\nsaleswoman: 1704\\nsalesperson: 1844\\n\\nspokesman: 1537\\nspokeswoman: 1569\\nspokesperson: 1971\\n\\nforeman: 15th century\\nforewoman: 162\\n'"
      ]
     },
     "execution_count": 22,
     "metadata": {},
     "output_type": "execute_result"
    }
   ],
   "source": [
    "\"\"\"\n",
    "chairman: 1644  (peak 1946)\n",
    "chairwoman: 1699\n",
    "chairperson: 1899\n",
    "\n",
    "newsman: 1888  (peak 1970)\n",
    "newswoman: 1928\n",
    "newsperson: 1973\n",
    "\n",
    "statesman: 1592\n",
    "stateswoman: 1611\n",
    "statesperson: -\n",
    "\n",
    "salesman: 1523\n",
    "saleswoman: 1704\n",
    "salesperson: 1844\n",
    "\n",
    "spokesman: 1537\n",
    "spokeswoman: 1569\n",
    "spokesperson: 1971\n",
    "\n",
    "foreman: 15th century\n",
    "forewoman: 162\n",
    "\"\"\""
   ]
  },
  {
   "cell_type": "code",
   "execution_count": 40,
   "id": "e38fa9a3",
   "metadata": {},
   "outputs": [
    {
     "name": "stdout",
     "output_type": "stream",
     "text": [
      "insured: a person whose interests are protected by an insurance policy; a person who contracts for an insurance policy that indemnifies him against loss of property or life or health etc.\n",
      "====================\n",
      "swagger: an itinerant Australian laborer who carries his personal belongings in a bundle as he travels around in search of work\n",
      "====================\n",
      "abraham: the first of the Old Testament patriarchs and the father of Isaac; according to Genesis, God promised to give Abraham's family (the Hebrews) the land of Canaan (the Promised Land); God tested Abraham by asking him to sacrifice his son\n",
      "====================\n",
      "aladdin: in the Arabian Nights a boy who acquires a magic lamp from which he can summon a genie\n",
      "====================\n",
      "ali: the fourth caliph of Islam who is considered to be the first caliph by Shiites; he was a cousin and son-in-law of Muhammad; after his assassination Islam was divided into Shiite and Sunnite sects\n",
      "====================\n",
      "anaesthetist: a specialist who administers an anesthetic to a patient before he is treated\n",
      "====================\n",
      "anesthesiologist: a specialist who administers an anesthetic to a patient before he is treated\n",
      "====================\n",
      "anesthetist: a specialist who administers an anesthetic to a patient before he is treated\n",
      "====================\n",
      "apple_polisher: someone who humbles himself as a sign of respect; who behaves as if he had no self-respect\n",
      "====================\n",
      "auguste_comte: French philosopher remembered as the founder of positivism; he also established sociology as a systematic field of study\n",
      "====================\n",
      "autodidact: a person who has taught himself\n",
      "====================\n",
      "balancer: an acrobat who balances himself in difficult positions\n",
      "====================\n",
      "bearer: the person who is in possession of a check or note or bond or document of title that is endorsed to him or to whoever holds it\n",
      "====================\n",
      "belisarius: Byzantine general under Justinian I; he recovered former Roman territories in northern Africa and fought against the Persians\n",
      "====================\n",
      "beowulf: the legendary hero of an anonymous Old English epic poem composed in the early 8th century; he slays a monster and becomes king but dies fighting a dragon\n",
      "====================\n",
      "bluebeard: (fairytale) a monstrous villain who marries seven women; he kills the first six for disobedience\n",
      "====================\n",
      "bootlicker: someone who humbles himself as a sign of respect; who behaves as if he had no self-respect\n",
      "====================\n",
      "business_traveler: a traveler whose expenses are paid by the business he works for\n",
      "====================\n",
      "carrier: (medicine) a person (or animal) who has some pathogen to which he is immune but who can pass it on to others\n",
      "====================\n",
      "cohn: German botanist who is generally recognized as founding bacteriology when he recognized bacteria as plants\n",
      "====================\n",
      "comte: French philosopher remembered as the founder of positivism; he also established sociology as a systematic field of study\n",
      "====================\n",
      "crier: a peddler who shouts to advertise the goods he sells\n",
      "====================\n",
      "crispin: patron saint of shoemakers; he and his brother were martyred for trying to spread Christianity (3rd century)\n",
      "====================\n",
      "damocles: the Greek courtier to Dionysius the Elder who (according to legend) was condemned to sit under a naked sword that was suspended by a hair in order to demonstrate to him that being a king was not the happy state Damocles had said it was (4th century BC)\n",
      "====================\n",
      "doubting_thomas: the Apostle who would not believe the resurrection of Jesus until he saw Jesus with his own eyes\n",
      "====================\n",
      "ea: the Babylonian god of wisdom; son of Apsu and father of Marduk; counterpart of the Sumerian Enki; as one of the supreme triad including Anu and Bel he was assigned control of the watery element\n",
      "====================\n",
      "eas: the Babylonian god of wisdom; son of Apsu and father of Marduk; counterpart of the Sumerian Enki; as one of the supreme triad including Anu and Bel he was assigned control of the watery element\n",
      "====================\n",
      "elijah: a Hebrew prophet in the Old Testament who opposed the worship of idols; he was persecuted for rebuking Ahab and Jezebel (king and queen of Israel); he was taken up to heaven in a chariot of fire (circa 9th century BC)\n",
      "====================\n",
      "expert_witness: a witness who has knowledge not normally possessed by the average person concerning the topic that he is to testify about\n",
      "====================\n",
      "fawner: someone who humbles himself as a sign of respect; who behaves as if he had no self-respect\n",
      "====================\n",
      "felo-de-se: a person who kills himself intentionally\n",
      "====================\n",
      "ferdinand_julius_cohn: German botanist who is generally recognized as founding bacteriology when he recognized bacteria as plants\n",
      "====================\n",
      "filibuster: a legislator who gives long speeches in an effort to delay or obstruct legislation that he (or she) opposes\n",
      "====================\n",
      "filibusterer: a legislator who gives long speeches in an effort to delay or obstruct legislation that he (or she) opposes\n",
      "====================\n",
      "flagellant: a person who is whipped or whips himself for sexual gratification\n",
      "====================\n",
      "flagellant: a person who whips himself as a religious penance\n",
      "====================\n",
      "frankenstein: the fictional Swiss scientist who was the protagonist in a gothic novel by Mary Wollstonecraft Shelley; he created a monster from parts of corpses\n",
      "====================\n",
      "giver: someone who devotes himself completely\n",
      "====================\n",
      "groveler: someone who humbles himself as a sign of respect; who behaves as if he had no self-respect\n",
      "====================\n",
      "groveller: someone who humbles himself as a sign of respect; who behaves as if he had no self-respect\n",
      "====================\n",
      "holder: the person who is in possession of a check or note or bond or document of title that is endorsed to him or to whoever holds it\n",
      "====================\n",
      "holy_ghost: the third person in the Trinity; Jesus promised the Apostles that he would send the Holy Spirit after his Crucifixion and Resurrection; it came on Pentecost\n",
      "====================\n",
      "holy_spirit: the third person in the Trinity; Jesus promised the Apostles that he would send the Holy Spirit after his Crucifixion and Resurrection; it came on Pentecost\n",
      "====================\n",
      "hot_dog: someone who performs dangerous stunts to attract attention to himself\n",
      "====================\n",
      "hotdog: someone who performs dangerous stunts to attract attention to himself\n",
      "====================\n",
      "ibrahim: the first of the Old Testament patriarchs and the father of Isaac; according to Genesis, God promised to give Abraham's family (the Hebrews) the land of Canaan (the Promised Land); God tested Abraham by asking him to sacrifice his son\n",
      "====================\n",
      "immune_carrier: (medicine) a person (or animal) who has some pathogen to which he is immune but who can pass it on to others\n",
      "====================\n",
      "indian_giver: an offensive term for someone who asks you to return a present he has given you\n",
      "====================\n",
      "inmate: a patient who is residing in the hospital where he is being treated\n",
      "====================\n",
      "inpatient: a patient who is residing in the hospital where he is being treated\n",
      "====================\n",
      "insured_person: a person whose interests are protected by an insurance policy; a person who contracts for an insurance policy that indemnifies him against loss of property or life or health etc.\n",
      "====================\n",
      "investigator: a scientist who devotes himself to doing research\n",
      "====================\n",
      "isidore_auguste_marie_francois_comte: French philosopher remembered as the founder of positivism; he also established sociology as a systematic field of study\n",
      "====================\n",
      "jacobite: a supporter of James II after he was overthrown or a supporter of the Stuarts\n",
      "====================\n",
      "jinx: a person believed to bring bad luck to those around him\n",
      "====================\n",
      "jonah: a person believed to bring bad luck to those around him\n",
      "====================\n",
      "know-all: someone who thinks he knows everything and refuses to accept advice or information from others\n",
      "====================\n",
      "know-it-all: someone who thinks he knows everything and refuses to accept advice or information from others\n",
      "====================\n",
      "lancelot: (Arthurian legend) one of the knights of the Round Table; friend of King Arthur until (according to some versions of the legend) he became the lover of Arthur's wife Guinevere\n",
      "====================\n",
      "lazarus: the person who Jesus raised from the dead after four days in the tomb; this miracle caused the enemies of Jesus to begin the plan to put him to death\n",
      "====================\n",
      "lucretius: Roman philosopher and poet; in a long didactic poem he tried to provide a scientific explanation of the universe (96-55 BC)\n",
      "====================\n",
      "midas: (Greek legend) the greedy king of Phrygia who Dionysus gave the power to turn everything he touched into gold\n",
      "====================\n"
     ]
    },
    {
     "name": "stdout",
     "output_type": "stream",
     "text": [
      "mujahid: a Muslim engaged in what he considers to be a jihad\n",
      "====================\n",
      "noah: the Hebrew patriarch who saved himself and his family and the animals by building an ark in which they survived 40 days and 40 nights of rain; the story of Noah and the flood is told in the Book of Genesis\n",
      "====================\n",
      "outpatient: a patient who does not reside in the hospital where he is being treated\n",
      "====================\n",
      "paraclete: the third person in the Trinity; Jesus promised the Apostles that he would send the Holy Spirit after his Crucifixion and Resurrection; it came on Pentecost\n",
      "====================\n",
      "persona_grata: a diplomat who is acceptable to the government to which he is sent\n",
      "====================\n",
      "persona_non_grata: a diplomat who is unacceptable to the government to which he is sent\n",
      "====================\n",
      "pinchgut: a niggardly person who starves himself (and others)\n",
      "====================\n",
      "poser: a person who habitually pretends to be something he is not\n",
      "====================\n",
      "poseur: a person who habitually pretends to be something he is not\n",
      "====================\n",
      "pusher: one who intrudes or pushes himself forward\n",
      "====================\n",
      "pythius: epithet for Apollo; from the dragon Python which he killed\n",
      "====================\n",
      "ra: ancient Egyptian sun god with the head of a hawk; a universal creator; he merged with the god Amen as Amen-Ra to become the king of the gods\n",
      "====================\n",
      "ras: ancient Egyptian sun god with the head of a hawk; a universal creator; he merged with the god Amen as Amen-Ra to become the king of the gods\n",
      "====================\n",
      "raskolnikov: a fictional character in Dostoevsky's novel `Crime and Punishment'; he kills old women because he believes he is beyond the bounds of good or evil\n",
      "====================\n",
      "re: ancient Egyptian sun god with the head of a hawk; a universal creator; he merged with the god Amen as Amen-Ra to become the king of the gods\n",
      "====================\n",
      "res: ancient Egyptian sun god with the head of a hawk; a universal creator; he merged with the god Amen as Amen-Ra to become the king of the gods\n",
      "====================\n",
      "research_worker: a scientist who devotes himself to doing research\n",
      "====================\n",
      "researcher: a scientist who devotes himself to doing research\n",
      "====================\n",
      "rip_van_winkle: the title character in a story by Washington Irving about a man who sleeps for 20 years and doesn't recognize the world when he wakens\n",
      "====================\n",
      "rodya_raskolnikov: a fictional character in Dostoevsky's novel `Crime and Punishment'; he kills old women because he believes he is beyond the bounds of good or evil\n",
      "====================\n",
      "saint_crispin: patron saint of shoemakers; he and his brother were martyred for trying to spread Christianity (3rd century)\n",
      "====================\n",
      "saint_thomas: the Apostle who would not believe the resurrection of Jesus until he saw Jesus with his own eyes\n",
      "====================\n",
      "sinbad: in the Arabian Nights a hero who tells of the fantastic adventures he had in his voyages\n",
      "====================\n",
      "sinbad_the_sailor: in the Arabian Nights a hero who tells of the fantastic adventures he had in his voyages\n",
      "====================\n",
      "sir_lancelot: (Arthurian legend) one of the knights of the Round Table; friend of King Arthur until (according to some versions of the legend) he became the lover of Arthur's wife Guinevere\n",
      "====================\n",
      "st._crispin: patron saint of shoemakers; he and his brother were martyred for trying to spread Christianity (3rd century)\n",
      "====================\n",
      "st._thomas: the Apostle who would not believe the resurrection of Jesus until he saw Jesus with his own eyes\n",
      "====================\n",
      "suicide: a person who kills himself intentionally\n",
      "====================\n",
      "suicide_bomber: a terrorist who blows himself up in order to kill or injure other people\n",
      "====================\n",
      "swaggie: an itinerant Australian laborer who carries his personal belongings in a bundle as he travels around in search of work\n",
      "====================\n",
      "swagman: an itinerant Australian laborer who carries his personal belongings in a bundle as he travels around in search of work\n",
      "====================\n",
      "tell: a Swiss patriot who lived in the early 14th century and who was renowned for his skill as an archer; according to legend an Austrian governor compelled him to shoot an apple from his son's head with his crossbow (which he did successfully without mishap)\n",
      "====================\n",
      "thomas: the Apostle who would not believe the resurrection of Jesus until he saw Jesus with his own eyes\n",
      "====================\n",
      "thomas_the_doubting_apostle: the Apostle who would not believe the resurrection of Jesus until he saw Jesus with his own eyes\n",
      "====================\n",
      "thruster: one who intrudes or pushes himself forward\n",
      "====================\n",
      "titus_lucretius_carus: Roman philosopher and poet; in a long didactic poem he tried to provide a scientific explanation of the universe (96-55 BC)\n",
      "====================\n",
      "truckler: someone who humbles himself as a sign of respect; who behaves as if he had no self-respect\n",
      "====================\n",
      "william_tell: a Swiss patriot who lived in the early 14th century and who was renowned for his skill as an archer; according to legend an Austrian governor compelled him to shoot an apple from his son's head with his crossbow (which he did successfully without mishap)\n",
      "====================\n",
      "100\n"
     ]
    }
   ],
   "source": [
    "\"\"\"\n",
    "Generic Pronoun Usage\n",
    "\"\"\"\n",
    "\n",
    "df = pd.read_csv(\"gender_PPN_removed_new.csv\")\n",
    "\n",
    "neutral = df[(df['Gender'] == \"N\") | (df['Gender'].isnull())]\n",
    "\n",
    "male_prons = ['he', 'him', 'himself']\n",
    "female_prons = ['she', 'her', 'herself']\n",
    "both = ['he or she', 'his or her', 'himself or herself', 'he (or she)', 'his (or her)', 'himself (or herself)',\n",
    "       'she or he', 'her or his', 'herself or himself', 'she (or he)', 'her (or his), herself (or himself)']\n",
    "\n",
    "def generic_he(definition):\n",
    "    definition = definition.split(\" \")\n",
    "    contains_male = any(word in male_prons for word in definition)\n",
    "    contains_female = any(word in female_prons for word in definition)\n",
    "    return contains_male and not contains_female\n",
    "\n",
    "def generic_she(definition):\n",
    "    definition = definition.split(\" \")\n",
    "    contains_male = any(word in male_prons for word in definition)\n",
    "    contains_female = any(word in female_prons for word in definition)\n",
    "    return contains_female and not contains_male\n",
    "\n",
    "def no_generic_use(definition):\n",
    "    if any(word in definition for word in both):\n",
    "        return True\n",
    "    else:\n",
    "        return False\n",
    "count = 0\n",
    "for index, row in neutral.iterrows():\n",
    "    definition = row['Definition']\n",
    "    lemma = row['Lemma']\n",
    "    gender = row['Gender']\n",
    "    # Check if any word in the word list is present in the definition\n",
    "    if generic_he(definition):\n",
    "#     if no_generic_use(definition):\n",
    "        print(\"{}: {}\".format(lemma, definition))\n",
    "        print(\"==\"*10)\n",
    "        count+=1\n",
    "print(count)\n"
   ]
  },
  {
   "cell_type": "code",
   "execution_count": 24,
   "id": "1a987ebb",
   "metadata": {},
   "outputs": [
    {
     "data": {
      "text/plain": [
       "'\\nconstituent: a member of a constituency; a citizen who is represented in a government by officials for whom he or she votes\\n====================\\nnationalist: one who loves and defends his or her country\\n====================\\nphoney: a person who professes beliefs and opinions that he or she does not hold in order to conceal his or her real feelings or motives\\n====================\\nphony: a person who professes beliefs and opinions that he or she does not hold in order to conceal his or her real feelings or motives\\n====================\\nvaletudinarian: weak or sickly person especially one morbidly concerned with his or her health\\n====================\\nadopter: a person who adopts a child of other parents as his or her own child\\n====================\\nadoptive_parent: a person who adopts a child of other parents as his or her own child\\n====================\\nadverse_witness: a witness whose relationship to the opposing party is such that his or her testimony may be prejudiced against the opposing party\\n====================\\nappropriator: someone who takes for his or her own use (especially without permission)\\n====================\\narrogator: a person who through conceit makes pretentious claims to rights or advantages that he or she is not entitled to or to qualities that he or she does not possess\\n====================\\nauteur: a filmmaker who has a personal style and keeps creative control over his or her works\\n====================\\ncareerist: a professional who is intent on furthering his or her career by any possible means and often at the expense of their own integrity\\n====================\\nchauvinist: a person with a prejudiced belief in the superiority of his or her own kind\\n====================\\ndissembler: a person who professes beliefs and opinions that he or she does not hold in order to conceal his or her real feelings or motives\\n====================\\ndissimulator: a person who professes beliefs and opinions that he or she does not hold in order to conceal his or her real feelings or motives\\n====================\\nfavorite_son: a United States politician favored mainly in his or her home state\\n====================\\nfilibuster: a legislator who gives long speeches in an effort to delay or obstruct legislation that he (or she) opposes\\n====================\\nfilibusterer: a legislator who gives long speeches in an effort to delay or obstruct legislation that he (or she) opposes\\n====================\\nhost: a person who invites guests to a social event (such as a party in his or her own home) and who is responsible for them while they are there\\n====================\\nhostile_witness: a witness whose relationship to the opposing party is such that his or her testimony may be prejudiced against the opposing party\\n====================\\nhypocrite: a person who professes beliefs and opinions that he or she does not hold in order to conceal his or her real feelings or motives\\n====================\\nnoncandidate: someone who has announced they are not a candidate; especially a politician who has announced that he or she is not a candidate for some political office\\n====================\\nparricide: someone who kills his or her parent\\n====================\\npassive_source: an informant who is not assigned to obtain specific intelligence but who routinely passes on whatever information he or she has\\n====================\\npatriot: one who loves and defends his or her country\\n====================\\nplenipotentiary: a diplomat who is fully authorized to represent his or her government\\n====================\\npretender: a person who professes beliefs and opinions that he or she does not hold in order to conceal his or her real feelings or motives\\n====================\\npuller: someone who applies force so as to cause motion toward herself or himself\\n====================\\nsport: a person known for the way she (or he) behaves when teased or defeated or subjected to trying circumstances\\n====================\\nstooper: a person who carries himself or herself with the head and shoulders habitually bent forward\\n====================\\nvicereine: governor of a country or province who rules as the representative of his or her king or sovereign\\n====================\\nviceroy: governor of a country or province who rules as the representative of his or her king or sovereign\\n====================\\nwithdrawer: a student who withdraws from the educational institution in which he or she was enrolled\\n====================\\n33\\n'"
      ]
     },
     "execution_count": 24,
     "metadata": {},
     "output_type": "execute_result"
    }
   ],
   "source": [
    "\"\"\"\n",
    "constituent: a member of a constituency; a citizen who is represented in a government by officials for whom he or she votes\n",
    "====================\n",
    "nationalist: one who loves and defends his or her country\n",
    "====================\n",
    "phoney: a person who professes beliefs and opinions that he or she does not hold in order to conceal his or her real feelings or motives\n",
    "====================\n",
    "phony: a person who professes beliefs and opinions that he or she does not hold in order to conceal his or her real feelings or motives\n",
    "====================\n",
    "valetudinarian: weak or sickly person especially one morbidly concerned with his or her health\n",
    "====================\n",
    "adopter: a person who adopts a child of other parents as his or her own child\n",
    "====================\n",
    "adoptive_parent: a person who adopts a child of other parents as his or her own child\n",
    "====================\n",
    "adverse_witness: a witness whose relationship to the opposing party is such that his or her testimony may be prejudiced against the opposing party\n",
    "====================\n",
    "appropriator: someone who takes for his or her own use (especially without permission)\n",
    "====================\n",
    "arrogator: a person who through conceit makes pretentious claims to rights or advantages that he or she is not entitled to or to qualities that he or she does not possess\n",
    "====================\n",
    "auteur: a filmmaker who has a personal style and keeps creative control over his or her works\n",
    "====================\n",
    "careerist: a professional who is intent on furthering his or her career by any possible means and often at the expense of their own integrity\n",
    "====================\n",
    "chauvinist: a person with a prejudiced belief in the superiority of his or her own kind\n",
    "====================\n",
    "dissembler: a person who professes beliefs and opinions that he or she does not hold in order to conceal his or her real feelings or motives\n",
    "====================\n",
    "dissimulator: a person who professes beliefs and opinions that he or she does not hold in order to conceal his or her real feelings or motives\n",
    "====================\n",
    "favorite_son: a United States politician favored mainly in his or her home state\n",
    "====================\n",
    "filibuster: a legislator who gives long speeches in an effort to delay or obstruct legislation that he (or she) opposes\n",
    "====================\n",
    "filibusterer: a legislator who gives long speeches in an effort to delay or obstruct legislation that he (or she) opposes\n",
    "====================\n",
    "host: a person who invites guests to a social event (such as a party in his or her own home) and who is responsible for them while they are there\n",
    "====================\n",
    "hostile_witness: a witness whose relationship to the opposing party is such that his or her testimony may be prejudiced against the opposing party\n",
    "====================\n",
    "hypocrite: a person who professes beliefs and opinions that he or she does not hold in order to conceal his or her real feelings or motives\n",
    "====================\n",
    "noncandidate: someone who has announced they are not a candidate; especially a politician who has announced that he or she is not a candidate for some political office\n",
    "====================\n",
    "parricide: someone who kills his or her parent\n",
    "====================\n",
    "passive_source: an informant who is not assigned to obtain specific intelligence but who routinely passes on whatever information he or she has\n",
    "====================\n",
    "patriot: one who loves and defends his or her country\n",
    "====================\n",
    "plenipotentiary: a diplomat who is fully authorized to represent his or her government\n",
    "====================\n",
    "pretender: a person who professes beliefs and opinions that he or she does not hold in order to conceal his or her real feelings or motives\n",
    "====================\n",
    "puller: someone who applies force so as to cause motion toward herself or himself\n",
    "====================\n",
    "sport: a person known for the way she (or he) behaves when teased or defeated or subjected to trying circumstances\n",
    "====================\n",
    "stooper: a person who carries himself or herself with the head and shoulders habitually bent forward\n",
    "====================\n",
    "vicereine: governor of a country or province who rules as the representative of his or her king or sovereign\n",
    "====================\n",
    "viceroy: governor of a country or province who rules as the representative of his or her king or sovereign\n",
    "====================\n",
    "withdrawer: a student who withdraws from the educational institution in which he or she was enrolled\n",
    "====================\n",
    "33\n",
    "\"\"\""
   ]
  },
  {
   "cell_type": "code",
   "execution_count": 41,
   "id": "4e11bf5e",
   "metadata": {},
   "outputs": [
    {
     "data": {
      "text/plain": [
       "'\\ninsured: a person whose interests are protected by an insurance policy; a person who contracts for an insurance policy that indemnifies him against loss of property or life or health etc.\\n====================\\nswagger: an itinerant Australian laborer who carries his personal belongings in a bundle as he travels around in search of work\\n====================\\nanaesthetist: a specialist who administers an anesthetic to a patient before he is treated\\n====================\\nanesthesiologist: a specialist who administers an anesthetic to a patient before he is treated\\n====================\\nanesthetist: a specialist who administers an anesthetic to a patient before he is treated\\n====================\\napple_polisher: someone who humbles himself as a sign of respect; who behaves as if he had no self-respect\\n====================\\nautodidact: a person who has taught himself\\n====================\\nbalancer: an acrobat who balances himself in difficult positions\\n====================\\nbearer: the person who is in possession of a check or note or bond or document of title that is endorsed to him or to whoever holds it\\n====================\\nbootlicker: someone who humbles himself as a sign of respect; who behaves as if he had no self-respect\\n====================\\nbusiness_traveler: a traveler whose expenses are paid by the business he works for\\n====================\\ncarrier: (medicine) a person (or animal) who has some pathogen to which he is immune but who can pass it on to others\\n====================\\ncrier: a peddler who shouts to advertise the goods he sells\\n====================\\ndoubting_thomas: the Apostle who would not believe the resurrection of Jesus until he saw Jesus with his own eyes\\n====================\\nexpert_witness: a witness who has knowledge not normally possessed by the average person concerning the topic that he is to testify about\\n====================\\nfawner: someone who humbles himself as a sign of respect; who behaves as if he had no self-respect\\n====================\\nfelo-de-se: a person who kills himself intentionally\\n====================\\nflagellant: a person who is whipped or whips himself for sexual gratification\\n====================\\nflagellant: a person who whips himself as a religious penance\\n====================\\ngiver: someone who devotes himself completely\\n====================\\ngroveler: someone who humbles himself as a sign of respect; who behaves as if he had no self-respect\\n====================\\ngroveller: someone who humbles himself as a sign of respect; who behaves as if he had no self-respect\\n====================\\nholder: the person who is in possession of a check or note or bond or document of title that is endorsed to him or to whoever holds it\\n====================\\nhot_dog: someone who performs dangerous stunts to attract attention to himself\\n====================\\nhotdog: someone who performs dangerous stunts to attract attention to himself\\n====================\\nimmune_carrier: (medicine) a person (or animal) who has some pathogen to which he is immune but who can pass it on to others\\n====================\\nindian_giver: an offensive term for someone who asks you to return a present he has given you\\n====================\\ninmate: a patient who is residing in the hospital where he is being treated\\n====================\\ninpatient: a patient who is residing in the hospital where he is being treated\\n====================\\ninsured_person: a person whose interests are protected by an insurance policy; a person who contracts for an insurance policy that indemnifies him against loss of property or life or health etc.\\n====================\\ninvestigator: a scientist who devotes himself to doing research\\n====================\\njinx: a person believed to bring bad luck to those around him\\n====================\\njonah: a person believed to bring bad luck to those around him\\n====================\\nknow-all: someone who thinks he knows everything and refuses to accept advice or information from others\\n====================\\nknow-it-all: someone who thinks he knows everything and refuses to accept advice or information from others\\n====================\\nlazarus: the person who Jesus raised from the dead after four days in the tomb; this miracle caused the enemies of Jesus to begin the plan to put him to death\\n====================\\nmujahid: a Muslim engaged in what he considers to be a jihad\\n====================\\noutpatient: a patient who does not reside in the hospital where he is being treated\\n====================\\npersona_grata: a diplomat who is acceptable to the government to which he is sent\\n====================\\npersona_non_grata: a diplomat who is unacceptable to the government to which he is sent\\n====================\\npinchgut: a niggardly person who starves himself (and others)\\n====================\\nposer: a person who habitually pretends to be something he is not\\n====================\\nposeur: a person who habitually pretends to be something he is not\\n====================\\npusher: one who intrudes or pushes himself forward\\n====================\\nresearch_worker: a scientist who devotes himself to doing research\\n====================\\nresearcher: a scientist who devotes himself to doing research\\n====================\\nsaint_thomas: the Apostle who would not believe the resurrection of Jesus until he saw Jesus with his own eyes\\n====================\\nst._thomas: the Apostle who would not believe the resurrection of Jesus until he saw Jesus with his own eyes\\n====================\\nsuicide: a person who kills himself intentionally\\n====================\\nsuicide_bomber: a terrorist who blows himself up in order to kill or injure other people\\n====================\\nswaggie: an itinerant Australian laborer who carries his personal belongings in a bundle as he travels around in search of work\\n====================\\nswagman: an itinerant Australian laborer who carries his personal belongings in a bundle as he travels around in search of work\\n====================\\nthomas: the Apostle who would not believe the resurrection of Jesus until he saw Jesus with his own eyes\\n====================\\nthomas_the_doubting_apostle: the Apostle who would not believe the resurrection of Jesus until he saw Jesus with his own eyes\\n====================\\nthruster: one who intrudes or pushes himself forward\\n====================\\ntruckler: someone who humbles himself as a sign of respect; who behaves as if he had no self-respect\\n====================\\n\\n67\\n'"
      ]
     },
     "execution_count": 41,
     "metadata": {},
     "output_type": "execute_result"
    }
   ],
   "source": [
    "\"\"\"\n",
    "insured: a person whose interests are protected by an insurance policy; a person who contracts for an insurance policy that indemnifies him against loss of property or life or health etc.\n",
    "====================\n",
    "swagger: an itinerant Australian laborer who carries his personal belongings in a bundle as he travels around in search of work\n",
    "====================\n",
    "anaesthetist: a specialist who administers an anesthetic to a patient before he is treated\n",
    "====================\n",
    "anesthesiologist: a specialist who administers an anesthetic to a patient before he is treated\n",
    "====================\n",
    "anesthetist: a specialist who administers an anesthetic to a patient before he is treated\n",
    "====================\n",
    "apple_polisher: someone who humbles himself as a sign of respect; who behaves as if he had no self-respect\n",
    "====================\n",
    "autodidact: a person who has taught himself\n",
    "====================\n",
    "balancer: an acrobat who balances himself in difficult positions\n",
    "====================\n",
    "bearer: the person who is in possession of a check or note or bond or document of title that is endorsed to him or to whoever holds it\n",
    "====================\n",
    "bootlicker: someone who humbles himself as a sign of respect; who behaves as if he had no self-respect\n",
    "====================\n",
    "business_traveler: a traveler whose expenses are paid by the business he works for\n",
    "====================\n",
    "carrier: (medicine) a person (or animal) who has some pathogen to which he is immune but who can pass it on to others\n",
    "====================\n",
    "crier: a peddler who shouts to advertise the goods he sells\n",
    "====================\n",
    "doubting_thomas: the Apostle who would not believe the resurrection of Jesus until he saw Jesus with his own eyes\n",
    "====================\n",
    "expert_witness: a witness who has knowledge not normally possessed by the average person concerning the topic that he is to testify about\n",
    "====================\n",
    "fawner: someone who humbles himself as a sign of respect; who behaves as if he had no self-respect\n",
    "====================\n",
    "felo-de-se: a person who kills himself intentionally\n",
    "====================\n",
    "flagellant: a person who is whipped or whips himself for sexual gratification\n",
    "====================\n",
    "flagellant: a person who whips himself as a religious penance\n",
    "====================\n",
    "giver: someone who devotes himself completely\n",
    "====================\n",
    "groveler: someone who humbles himself as a sign of respect; who behaves as if he had no self-respect\n",
    "====================\n",
    "groveller: someone who humbles himself as a sign of respect; who behaves as if he had no self-respect\n",
    "====================\n",
    "holder: the person who is in possession of a check or note or bond or document of title that is endorsed to him or to whoever holds it\n",
    "====================\n",
    "hot_dog: someone who performs dangerous stunts to attract attention to himself\n",
    "====================\n",
    "hotdog: someone who performs dangerous stunts to attract attention to himself\n",
    "====================\n",
    "immune_carrier: (medicine) a person (or animal) who has some pathogen to which he is immune but who can pass it on to others\n",
    "====================\n",
    "indian_giver: an offensive term for someone who asks you to return a present he has given you\n",
    "====================\n",
    "inmate: a patient who is residing in the hospital where he is being treated\n",
    "====================\n",
    "inpatient: a patient who is residing in the hospital where he is being treated\n",
    "====================\n",
    "insured_person: a person whose interests are protected by an insurance policy; a person who contracts for an insurance policy that indemnifies him against loss of property or life or health etc.\n",
    "====================\n",
    "investigator: a scientist who devotes himself to doing research\n",
    "====================\n",
    "jinx: a person believed to bring bad luck to those around him\n",
    "====================\n",
    "jonah: a person believed to bring bad luck to those around him\n",
    "====================\n",
    "know-all: someone who thinks he knows everything and refuses to accept advice or information from others\n",
    "====================\n",
    "know-it-all: someone who thinks he knows everything and refuses to accept advice or information from others\n",
    "====================\n",
    "lazarus: the person who Jesus raised from the dead after four days in the tomb; this miracle caused the enemies of Jesus to begin the plan to put him to death\n",
    "====================\n",
    "mujahid: a Muslim engaged in what he considers to be a jihad\n",
    "====================\n",
    "outpatient: a patient who does not reside in the hospital where he is being treated\n",
    "====================\n",
    "persona_grata: a diplomat who is acceptable to the government to which he is sent\n",
    "====================\n",
    "persona_non_grata: a diplomat who is unacceptable to the government to which he is sent\n",
    "====================\n",
    "pinchgut: a niggardly person who starves himself (and others)\n",
    "====================\n",
    "poser: a person who habitually pretends to be something he is not\n",
    "====================\n",
    "poseur: a person who habitually pretends to be something he is not\n",
    "====================\n",
    "pusher: one who intrudes or pushes himself forward\n",
    "====================\n",
    "research_worker: a scientist who devotes himself to doing research\n",
    "====================\n",
    "researcher: a scientist who devotes himself to doing research\n",
    "====================\n",
    "saint_thomas: the Apostle who would not believe the resurrection of Jesus until he saw Jesus with his own eyes\n",
    "====================\n",
    "st._thomas: the Apostle who would not believe the resurrection of Jesus until he saw Jesus with his own eyes\n",
    "====================\n",
    "suicide: a person who kills himself intentionally\n",
    "====================\n",
    "suicide_bomber: a terrorist who blows himself up in order to kill or injure other people\n",
    "====================\n",
    "swaggie: an itinerant Australian laborer who carries his personal belongings in a bundle as he travels around in search of work\n",
    "====================\n",
    "swagman: an itinerant Australian laborer who carries his personal belongings in a bundle as he travels around in search of work\n",
    "====================\n",
    "thomas: the Apostle who would not believe the resurrection of Jesus until he saw Jesus with his own eyes\n",
    "====================\n",
    "thomas_the_doubting_apostle: the Apostle who would not believe the resurrection of Jesus until he saw Jesus with his own eyes\n",
    "====================\n",
    "thruster: one who intrudes or pushes himself forward\n",
    "====================\n",
    "truckler: someone who humbles himself as a sign of respect; who behaves as if he had no self-respect\n",
    "====================\n",
    "\n",
    "67\n",
    "\"\"\""
   ]
  },
  {
   "cell_type": "code",
   "execution_count": null,
   "id": "c35ed0ff",
   "metadata": {},
   "outputs": [],
   "source": [
    "\"\"\"\n",
    "Proper Noun Experiment\n",
    "\"\"\""
   ]
  },
  {
   "cell_type": "code",
   "execution_count": 46,
   "id": "58a74ed2",
   "metadata": {},
   "outputs": [],
   "source": [
    "import pandas as pd\n",
    "\n",
    "# Read the CSV file into a pandas DataFrame\n",
    "df = pd.read_csv('gender_synset_based_new_4_new.csv')\n",
    "\n",
    "# Subset the DataFrame where Gender is \"PPN\"\n",
    "ppn_subset = df[df['Gender'] == 'PPN']\n",
    "\n",
    "# Randomly sample 100 rows from the subset\n",
    "random_ppn_subset = ppn_subset.sample(n=100, random_state=42)\n",
    "\n",
    "# Display the subset\n",
    "random_ppn_subset[['Lemma', 'Definition']].to_csv('subset_output.csv', index=False)"
   ]
  },
  {
   "cell_type": "code",
   "execution_count": null,
   "id": "197b3e56",
   "metadata": {},
   "outputs": [],
   "source": []
  }
 ],
 "metadata": {
  "kernelspec": {
   "display_name": "Python 3",
   "language": "python",
   "name": "python3"
  },
  "language_info": {
   "codemirror_mode": {
    "name": "ipython",
    "version": 3
   },
   "file_extension": ".py",
   "mimetype": "text/x-python",
   "name": "python",
   "nbconvert_exporter": "python",
   "pygments_lexer": "ipython3",
   "version": "3.6.6"
  }
 },
 "nbformat": 4,
 "nbformat_minor": 5
}
